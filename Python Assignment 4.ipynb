{
 "cells": [
  {
   "cell_type": "markdown",
   "id": "589b40c4",
   "metadata": {},
   "source": [
    "### 1.1 Write a Python Program(with class concepts) to find the area of the triangle using the below formula.\n",
    "\n",
    "### area = (s*(s-a)*(s-b)*(s-c)) ** 0.5\n",
    "\n",
    "\n",
    "#### Function to take the length of the sides of triangle from user should be defined in the parent class and function to calculate the area should be defined in subclass."
   ]
  },
  {
   "cell_type": "code",
   "execution_count": 1,
   "id": "aabd49a2",
   "metadata": {},
   "outputs": [],
   "source": [
    "# Creating Parent class\n",
    "class Parent_Class:\n",
    "    \n",
    "    def Input_Sides(self):\n",
    "        \n",
    "        self.a = int(input(\"Enter Side 1: \\n\"))\n",
    "        self.b = int(input(\"Enter Side 2: \\n\"))\n",
    "        self.c = int(input(\"Enter Side 3: \\n\"))\n",
    "        "
   ]
  },
  {
   "cell_type": "code",
   "execution_count": 2,
   "id": "d4761c57",
   "metadata": {},
   "outputs": [],
   "source": [
    "# Creating Child Class \n",
    "class Child(Parent_Class):\n",
    "    \n",
    "    def Area_Of_Triangle(self):\n",
    "        \n",
    "        s = (self.a+self.b+self.c)/2\n",
    "        \n",
    "        \n",
    "        area_of_triangle = (s*(s-self.a)*(s-self.b)*(s-self.c))**0.5\n",
    "        print(area_of_triangle)\n",
    "        \n",
    "        "
   ]
  },
  {
   "cell_type": "code",
   "execution_count": 3,
   "id": "e1df230a",
   "metadata": {},
   "outputs": [],
   "source": [
    "a = Child()"
   ]
  },
  {
   "cell_type": "code",
   "execution_count": 4,
   "id": "1c43f3f0",
   "metadata": {},
   "outputs": [
    {
     "name": "stdout",
     "output_type": "stream",
     "text": [
      "Enter Side 1: \n",
      "5\n",
      "Enter Side 2: \n",
      "5\n",
      "Enter Side 3: \n",
      "5\n"
     ]
    }
   ],
   "source": [
    "a.Input_Sides()"
   ]
  },
  {
   "cell_type": "code",
   "execution_count": 5,
   "id": "dfd78fea",
   "metadata": {},
   "outputs": [
    {
     "name": "stdout",
     "output_type": "stream",
     "text": [
      "10.825317547305483\n"
     ]
    }
   ],
   "source": [
    "a.Area_Of_Triangle()"
   ]
  },
  {
   "cell_type": "markdown",
   "id": "d3472c59",
   "metadata": {},
   "source": [
    "#### -----------------------------------------------------------------------------------------------------------------------------------------------------------------------------------------------------------------"
   ]
  },
  {
   "cell_type": "markdown",
   "id": "d6b2b65f",
   "metadata": {},
   "source": [
    "### 1.2 Write a function filter_long_words() that takes a list of words and an integer n and returns the list of words   that are longer than n."
   ]
  },
  {
   "cell_type": "code",
   "execution_count": 6,
   "id": "c286ace7",
   "metadata": {},
   "outputs": [],
   "source": [
    "def filter_long_words(words_list, length):\n",
    "    \n",
    "    list_of_words_after_comparing_with_length = []\n",
    "    \n",
    "    for word in words_list:\n",
    "        \n",
    "        if len(word)> length:\n",
    "            list_of_words_after_comparing_with_length.append(word)\n",
    "        else:\n",
    "            continue\n",
    "        \n",
    "        \n",
    "    return list_of_words_after_comparing_with_length\n",
    "    "
   ]
  },
  {
   "cell_type": "code",
   "execution_count": 7,
   "id": "f81d16a1",
   "metadata": {},
   "outputs": [],
   "source": [
    "words_list = ['Telugu', 'English', 'Tamil', 'Marathi', 'Bengali', 'Malayalam', 'Gujrati']"
   ]
  },
  {
   "cell_type": "code",
   "execution_count": 9,
   "id": "15792173",
   "metadata": {},
   "outputs": [
    {
     "data": {
      "text/plain": [
       "['English', 'Marathi', 'Bengali', 'Malayalam', 'Gujrati']"
      ]
     },
     "execution_count": 9,
     "metadata": {},
     "output_type": "execute_result"
    }
   ],
   "source": [
    "filter_long_words(words_list, 6)"
   ]
  },
  {
   "cell_type": "markdown",
   "id": "ca4811af",
   "metadata": {},
   "source": [
    "#### ------------------------------------------------------------------------------------------------------------------------------------------------------------------------------------------------------------------"
   ]
  },
  {
   "cell_type": "markdown",
   "id": "622ad7cd",
   "metadata": {},
   "source": [
    "### 2.1 Write a Python program using function concept that maps list of words into a list of integers representing the lengths of the corresponding words.\n",
    "\n",
    "\n",
    "### Hint: If a list [ ab,cde,erty] is passed on to the python function output should come as [2,3,4] Here 2,3 and 4 are the lengths of the words in the list."
   ]
  },
  {
   "cell_type": "code",
   "execution_count": 15,
   "id": "7b6bc6d2",
   "metadata": {},
   "outputs": [],
   "source": [
    "def words_to_integer(words_list):\n",
    "    \n",
    "    list_of_words_length = []\n",
    "    \n",
    "    for word in words_list:\n",
    "        \n",
    "        list_of_words_length.append(len(word))\n",
    "        # print(word)\n",
    "    \n",
    "    return list_of_words_length\n",
    "        "
   ]
  },
  {
   "cell_type": "code",
   "execution_count": 16,
   "id": "0caaf080",
   "metadata": {},
   "outputs": [],
   "source": [
    "words_list = ['Telugu', 'English', 'Tamil', 'Marathi', 'Bengali', 'Malayalam', 'Gujrati']"
   ]
  },
  {
   "cell_type": "code",
   "execution_count": 17,
   "id": "3f837814",
   "metadata": {},
   "outputs": [
    {
     "data": {
      "text/plain": [
       "[6, 7, 5, 7, 7, 9, 7]"
      ]
     },
     "execution_count": 17,
     "metadata": {},
     "output_type": "execute_result"
    }
   ],
   "source": [
    "words_to_integer(words_list)"
   ]
  },
  {
   "cell_type": "markdown",
   "id": "c85a37e0",
   "metadata": {},
   "source": [
    "#### ------------------------------------------------------------------------------------------------------------------------------------------------------------------------------------------------------------------"
   ]
  },
  {
   "cell_type": "markdown",
   "id": "b44f218e",
   "metadata": {},
   "source": [
    "### 2.2 Write a Python function which takes a character (i.e. a string of length 1) and returns True if it is a vowel, False otherwise."
   ]
  },
  {
   "cell_type": "code",
   "execution_count": 23,
   "id": "4c82292b",
   "metadata": {},
   "outputs": [],
   "source": [
    "def check_vowel(character):\n",
    "    \n",
    "    vowel_dict = ['a','e','i','o','u']\n",
    "    \n",
    "    if str(character).lower()  in vowel_dict:\n",
    "        return True\n",
    "    else:\n",
    "        return False\n",
    "    "
   ]
  },
  {
   "cell_type": "code",
   "execution_count": 29,
   "id": "bfda0659",
   "metadata": {},
   "outputs": [
    {
     "data": {
      "text/plain": [
       "False"
      ]
     },
     "execution_count": 29,
     "metadata": {},
     "output_type": "execute_result"
    }
   ],
   "source": [
    "check_vowel('s')"
   ]
  },
  {
   "cell_type": "code",
   "execution_count": 30,
   "id": "73ebeba4",
   "metadata": {},
   "outputs": [
    {
     "data": {
      "text/plain": [
       "True"
      ]
     },
     "execution_count": 30,
     "metadata": {},
     "output_type": "execute_result"
    }
   ],
   "source": [
    "check_vowel('A')"
   ]
  },
  {
   "cell_type": "markdown",
   "id": "3b13cb71",
   "metadata": {},
   "source": [
    "#### -----------------------------------------------------------------------------------------------------------------------------------------------------------------------------------------------------------------"
   ]
  }
 ],
 "metadata": {
  "kernelspec": {
   "display_name": "Python 3",
   "language": "python",
   "name": "python3"
  },
  "language_info": {
   "codemirror_mode": {
    "name": "ipython",
    "version": 3
   },
   "file_extension": ".py",
   "mimetype": "text/x-python",
   "name": "python",
   "nbconvert_exporter": "python",
   "pygments_lexer": "ipython3",
   "version": "3.8.8"
  }
 },
 "nbformat": 4,
 "nbformat_minor": 5
}
